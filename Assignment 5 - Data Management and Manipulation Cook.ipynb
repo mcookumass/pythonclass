{
 "cells": [
  {
   "cell_type": "markdown",
   "metadata": {},
   "source": [
    "# SCH-MGMT 697P Business Applications of Python\n",
    "### Assignment V: Data Management and Manipulation\n",
    "### Due: Wednesday 04-10 at 11:59pm\n",
    "Please complete these exercises to the best of your abilities. Please include code to invoke each of your functions to demonstrate the functionality. Write comments throughout your code to explain steps. If you run into a persistent error, please demonstrate your efforts to resolve it; search the web for the error, see if you can get closer to figuring it out. Document what you tried in order to fix the problem."
   ]
  },
  {
   "cell_type": "markdown",
   "metadata": {},
   "source": [
    "### Problem 1. Numpy Array Basics\n",
    "a.  Create an array with the following data, specify the data type as int\n",
    "```\n",
    "[[1,2,3,4,5],[6,7,8,9,10],[11,12,13,14,15],[16,17,18,19,20],[21,22,23,24,25]]\n",
    "```\n",
    "b.  Access the first and last entry of the array\n",
    "\n",
    "c.  Access the first row and the first column of the array\n",
    "\n",
    "d.  Find the mean and standard deviation of the second column"
   ]
  },
  {
   "cell_type": "code",
   "execution_count": null,
   "metadata": {},
   "outputs": [],
   "source": []
  },
  {
   "cell_type": "markdown",
   "metadata": {},
   "source": [
    "### Problem 2. Opperations with Numpy Arrays\n",
    "a. Slice off the outer edges of the array, that is, remove the first and last row and the first and last column.\n",
    "\n",
    "b. Use a numpy command to get the dimensions of the array\n",
    "\n",
    "c. Use another numpy command to get the number of items in the array\n",
    "\n",
    "d. Reshape the array into a  one dimensional array (1 x 25).\n",
    "\n",
    "e. Use selection to identify all even numbers in the array"
   ]
  },
  {
   "cell_type": "code",
   "execution_count": null,
   "metadata": {},
   "outputs": [],
   "source": []
  },
  {
   "cell_type": "markdown",
   "metadata": {},
   "source": [
    "### Problem 3. Random Number Generation in Numpy\n",
    "a. Generate a 3x3 array of random integers in the range of 0-9\n",
    "\n",
    "b. Generate a 100 random floats in the range of 0-1\n",
    "\n",
    "c. Generate 1000 observations from a normal distribution with mean 64 and standard deviation 2. \n",
    "\n",
    "d. **Optional** use matplotlib to draw a histogram of the data from the above. "
   ]
  },
  {
   "cell_type": "code",
   "execution_count": null,
   "metadata": {},
   "outputs": [],
   "source": []
  },
  {
   "cell_type": "markdown",
   "metadata": {},
   "source": [
    "### Problem 4. The datetime library (with pandas)\n",
    "You'll have to do some googling ...\n",
    "\n",
    "a. create a variable that stores the exact time Trump was elected president, to the nearest minute.  The program will default to the current time zone. \n",
    "\n",
    "b. create a variable to store the exact time now.\n",
    "\n",
    "c.  Use the date_range() function in pandas to create a time stamp for each day between the times you found in parts a and b. Notice or find the length of this object with len()"
   ]
  },
  {
   "cell_type": "code",
   "execution_count": 10,
   "metadata": {},
   "outputs": [
    {
     "data": {
      "text/plain": [
       "876"
      ]
     },
     "execution_count": 10,
     "metadata": {},
     "output_type": "execute_result"
    }
   ],
   "source": []
  },
  {
   "cell_type": "markdown",
   "metadata": {},
   "source": [
    "For the following problems, make sure you have the appropriate libraries installed and imported.  If you have not installed pandas datareader on your machine, you will need to do that first.  The html5lib 1.0b8 is also helpful. "
   ]
  },
  {
   "cell_type": "code",
   "execution_count": null,
   "metadata": {},
   "outputs": [],
   "source": [
    "# installing dependencies for pandas\n",
    "# this only has to be run once on your device, you can comment it out thereafter\n",
    "!pip install pandas-datareader\n",
    "!pip install --upgrade html5lib==1.0b8"
   ]
  },
  {
   "cell_type": "markdown",
   "metadata": {},
   "source": [
    "Imports for remaining problems "
   ]
  },
  {
   "cell_type": "code",
   "execution_count": 11,
   "metadata": {},
   "outputs": [],
   "source": [
    "import pandas as pd #pandas library\n",
    "from pandas_datareader import data #data readers (google, html, etc.)\n",
    "#The following line ensures that graphs are rendered in the notebook\n",
    "%matplotlib inline \n",
    "import numpy as np\n",
    "import matplotlib.pyplot as plt #Plotting library\n",
    "import datetime #datetime for timeseries support"
   ]
  },
  {
   "cell_type": "markdown",
   "metadata": {},
   "source": [
    "### Problem 5. Pandas Dataframe Basics\n",
    "a. Create a dataframe using the following customer data and column names.  Make sure the 'id' is set as the row index.  \n",
    "\n",
    "b. Print the two last columns, order_total and time.  \n",
    "\n",
    "c. Find the mean of the order_total column\n",
    "\n",
    "d. Print the second row of the dataframe  "
   ]
  },
  {
   "cell_type": "code",
   "execution_count": null,
   "metadata": {},
   "outputs": [],
   "source": [
    "data=[['57640','2018-02-13', 299.53,10],['52862','2018-04-16', 95.54,33],['73637','2018-11-06',307.83,68],['80392','2018-12-03',339.34,7],['18811','2018-12-11',375.60,56]]\n",
    "col_names=['id','last_order','order_total','time']\n"
   ]
  },
  {
   "cell_type": "markdown",
   "metadata": {},
   "source": [
    "### 6. Operations with Pandas Dataframes\n",
    "a.  Use the following data to make a pandas dataframe. \n",
    "\n",
    "b.  Change all of the temperatures from Fahrenheit to Celsius using the formula (degrees F - 32) x 5/9=degrees C\n"
   ]
  },
  {
   "cell_type": "code",
   "execution_count": null,
   "metadata": {},
   "outputs": [],
   "source": [
    "Blacksburg_Forecast = [ { 'humidity' :  20, 'temperature' : 78, 'wind' :  7} ,\n",
    "                        { 'humidity' :  50, 'temperature' : 61, 'wind' : 10} ,\n",
    "                        { 'humidity' : 100, 'temperature' : 81, 'wind' :  5} ,\n",
    "                        { 'humidity' :  90, 'temperature' : 62, 'wind' : 15} ,\n",
    "                        { 'humidity' :  30, 'temperature' : 84, 'wind' : 19} ,\n",
    "                        { 'humidity' :   0, 'temperature' : 66, 'wind' : 28} ,\n",
    "                        { 'humidity' :   0, 'temperature' : 87, 'wind' : 12} ,\n",
    "                        { 'humidity' :   0, 'temperature' : 68, 'wind' : 14} ,\n",
    "                        { 'humidity' :   0, 'temperature' : 86, 'wind' :  4} ,\n",
    "                        { 'humidity' :  60, 'temperature' : 68, 'wind' :  0}\n",
    "                       ]\n"
   ]
  },
  {
   "cell_type": "markdown",
   "metadata": {},
   "source": [
    "### 7.  Data Extraction with Pandas Datareader\n",
    "Use the IEX data source for this problem.  You can read more about remote access with datareader [here](https://pandas-datareader.readthedocs.io/en/latest/).  \n",
    "\n",
    "a.  Create a pandas dataframe for a stock of your choice over a period of one year.  Follow the examples from the last part of lesson 5.2.  Print the first four lines of the table.\n",
    "\n",
    "b.  Find the mean of the 'high' column and the maximum of the 'open' column.  Make sure to import the math library. \n"
   ]
  },
  {
   "cell_type": "code",
   "execution_count": null,
   "metadata": {},
   "outputs": [],
   "source": []
  },
  {
   "cell_type": "markdown",
   "metadata": {},
   "source": [
    "### 8.  Optional Challenge - Data Extraction and Manipulation\n",
    "See if you can figure out how to extract data from the star wars api:  'https://swapi.co/api/'. You can customize your data by adding to the url e.g. 'https://swapi.co/api/planets/' to get data about planets.  Extract the data and turn it into a tidy pandas dataframe.  You will need the requests library and probably the json library, perhaps others.  Have fun!"
   ]
  },
  {
   "cell_type": "code",
   "execution_count": null,
   "metadata": {},
   "outputs": [],
   "source": []
  }
 ],
 "metadata": {
  "kernelspec": {
   "display_name": "Python 3",
   "language": "python",
   "name": "python3"
  },
  "language_info": {
   "codemirror_mode": {
    "name": "ipython",
    "version": 3
   },
   "file_extension": ".py",
   "mimetype": "text/x-python",
   "name": "python",
   "nbconvert_exporter": "python",
   "pygments_lexer": "ipython3",
   "version": "3.7.1"
  }
 },
 "nbformat": 4,
 "nbformat_minor": 2
}
