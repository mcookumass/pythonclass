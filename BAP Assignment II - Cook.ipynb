{
 "cells": [
  {
   "cell_type": "markdown",
   "metadata": {},
   "source": [
    "### SCH-MGMT 697P Business Applications of Python\n",
    "### Assignment II:  Functions \n",
    "### Due: Monday 03-18 at 12am\n",
    "Please complete these exercises to the best of your abilities.  Please include code to invoke each of your functions to demonstrate the functionality.  Write comments throughout your code to explain steps.  If you run into a persistent error, please demonstrate your efforts to resolve it; search the web for the error, see if you can get closer to figuring it out.  Document what you tried in order to fix the problem. "
   ]
  },
  {
   "cell_type": "markdown",
   "metadata": {},
   "source": [
    "#### Problem 1\n",
    "a. Write a basic function to print the statment \"I can't get enough Python!\""
   ]
  },
  {
   "cell_type": "markdown",
   "metadata": {},
   "source": [
    "b. Write a basic function that accepts a name argument and prints \"(name) can't get enough Python!\""
   ]
  },
  {
   "cell_type": "code",
   "execution_count": 3,
   "metadata": {},
   "outputs": [
    {
     "name": "stdout",
     "output_type": "stream",
     "text": [
      "I can't get enough Python!\n",
      "Mike can't get enough Python!\n"
     ]
    }
   ],
   "source": [
    "# a.\n",
    "print(\"I can't get enough Python!\")\n",
    "\n",
    "# b. \n",
    "def youlovepython(name):\n",
    "    print(name, \"can't get enough Python!\")\n",
    "youlovepython('Mike')"
   ]
  },
  {
   "cell_type": "markdown",
   "metadata": {},
   "source": [
    "#### Problem 2\n",
    "Write a function that accepts the purchase price of a stock and a closing price and returns the percent change.  "
   ]
  },
  {
   "cell_type": "code",
   "execution_count": 16,
   "metadata": {},
   "outputs": [
    {
     "name": "stdout",
     "output_type": "stream",
     "text": [
      "The stock price changed by 170.58823529411762 percent.\n"
     ]
    },
    {
     "data": {
      "text/plain": [
       "170.58823529411762"
      ]
     },
     "execution_count": 16,
     "metadata": {},
     "output_type": "execute_result"
    }
   ],
   "source": [
    "def percent_change(purchase, close):\n",
    "    return ((close-purchase)/purchase)*100\n",
    "\n",
    "# test\n",
    "purchase=3.4\n",
    "close=9.2\n",
    "print(\"The stock price changed by\", percent_change(purchase, close), \"percent.\")\n",
    "return percent_change(purchase, close)"
   ]
  },
  {
   "cell_type": "markdown",
   "metadata": {},
   "source": [
    "#### Problem 3\n",
    "Write a function that accepts a list of data values and returns a summary that includes the mean, standard deviation, minimum, 25th percentile, median, 75th percentile, and maximum. You will need to import the numpy library in order to calculate the percentile.  Do a little bit of research.  In your function, also include a print statement that makes the output more meaningful.  "
   ]
  },
  {
   "cell_type": "code",
   "execution_count": 36,
   "metadata": {},
   "outputs": [
    {
     "name": "stdout",
     "output_type": "stream",
     "text": [
      "For the data array [ 4.5  6.   7.  18.   6.2 11.6 24.3  8.4 10.3] here are some descriptive statistics:\n",
      "The minimum is 4.5\n",
      "The maximum is 24.3\n",
      "The mean is 10.7\n",
      "The median is 8.4\n",
      "The 25th percentile is 6.2\n",
      "The 75th percentile is 11.6\n",
      "The standard deviation is 6.13713650202148\n"
     ]
    }
   ],
   "source": [
    "import numpy as np\n",
    "\n",
    "def summary(data):\n",
    "    data_array = np.array(data)\n",
    "    print(\"For the data array\", data_array, \"here are some descriptive statistics:\")\n",
    "    print(\"The minimum is\", np.min(data_array))\n",
    "    print(\"The maximum is\", np.max(data_array))\n",
    "    print(\"The mean is\", np.mean(data_array))\n",
    "    print(\"The median is\", np.median(data_array))\n",
    "    print(\"The 25th percentile is\", np.percentile(data_array, 25))\n",
    "    print(\"The 75th percentile is\", np.percentile(data_array, 75))\n",
    "    print(\"The standard deviation is\", np.std(data_array))\n",
    "    \n",
    "# test\n",
    "data = [4.5, 6, 7, 18, 6.2, 11.6, 24.3, 8.4, 10.3]\n",
    "summary(data)"
   ]
  },
  {
   "cell_type": "markdown",
   "metadata": {},
   "source": [
    "#### Problem 4\n",
    "Write a function that accepts a price for a restaurant bill, a sales tax, and a tip.  The function should calculate and return the amount a customer will have to pay after adding the sales tax and tip.  Make the default sales tax .0625 and the default tip .15. "
   ]
  },
  {
   "cell_type": "code",
   "execution_count": 48,
   "metadata": {},
   "outputs": [
    {
     "name": "stdout",
     "output_type": "stream",
     "text": [
      "A $20 meal at the default tax and tip rates will total: $ 24.25\n",
      "A $20 meal at 8.5% tax and 18% tip will total: $ 25.299999999999997\n"
     ]
    },
    {
     "data": {
      "text/plain": [
       "24.25"
      ]
     },
     "execution_count": 48,
     "metadata": {},
     "output_type": "execute_result"
    }
   ],
   "source": [
    "def calculate_bill(price, tax, tip):\n",
    "    return price*(1+tax)+price*tip\n",
    "    \n",
    "    \n",
    "# test\n",
    "price=20\n",
    "tax=.0625\n",
    "tip=.15\n",
    "print(\"A $20 meal at the default tax and tip rates will total: $\", calculate_bill(20, .0625, .15))\n",
    "print(\"A $20 meal at 8.5% tax and 18% tip will total: $\", calculate_bill(20, .085, .18))\n",
    "# This will return the total using the default tax and tip rates: \n",
    "calculate_bill(20, tax, tip)"
   ]
  },
  {
   "cell_type": "markdown",
   "metadata": {},
   "source": [
    "#### Problem 5\n",
    "Research local and global variables in Python.  Write a brief summary of what they are and provide a simple example to demonstrate.\n",
    "\n",
    "#### Summary\n",
    "Local variables in Python are defined inside of a function, so that it does not exist outside the function avoiding any confusion or problems elsewhere in our code. Global variables, while also defined inside of a function, are preceded by the word \"global\" to make them available globally. In the right situations it can be useful to have global variables and be able to call them in multiple functions."
   ]
  },
  {
   "cell_type": "code",
   "execution_count": 74,
   "metadata": {},
   "outputs": [
    {
     "name": "stdout",
     "output_type": "stream",
     "text": [
      "0\n",
      "1\n",
      "2\n",
      "None\n",
      "0\n",
      "1\n",
      "2\n",
      "777\n",
      "None\n",
      "Global text string\n",
      "Local text string\n"
     ]
    }
   ],
   "source": [
    "# Local Example: \n",
    "def function1():\n",
    "    for i in range(3):\n",
    "        print(i)\n",
    "\n",
    "print(function1())\n",
    "\n",
    "def function2():\n",
    "    i=777\n",
    "    function1()\n",
    "    print(i)\n",
    "\n",
    "print(function2())\n",
    "\n",
    "\n",
    "# Global Example: Here is a function that first calls (and prints) a global variable which is defined outside the function.\n",
    "# Then the function reassigns the variable and prints a local text string which is defined inside the function. \n",
    "def f(): \n",
    "    global s \n",
    "    print(s) \n",
    "    s = \"Local text string\"\n",
    "    print(s)  \n",
    "   \n",
    "s = \"Global text string\" \n",
    "f() \n"
   ]
  },
  {
   "cell_type": "markdown",
   "metadata": {},
   "source": [
    "#### Problem 6\n",
    "Write a function that takes in the purchase price and the current price of a certain stock.  If the stock's value has decreased by more than 10% or increased by more than 20%, return True.   Otherwise return False. "
   ]
  },
  {
   "cell_type": "code",
   "execution_count": 87,
   "metadata": {},
   "outputs": [
    {
     "data": {
      "text/plain": [
       "True"
      ]
     },
     "execution_count": 87,
     "metadata": {},
     "output_type": "execute_result"
    }
   ],
   "source": [
    "def check_price(purchase, current):\n",
    "    if purchase-current>.1*purchase:\n",
    "        return True\n",
    "    elif current-purchase>=.2*purchase:\n",
    "        return True\n",
    "    else:\n",
    "        return False\n",
    "\n",
    "# test\n",
    "purchase=100\n",
    "current=127\n",
    "check_price(purchase, current)"
   ]
  },
  {
   "cell_type": "markdown",
   "metadata": {},
   "source": [
    "#### Problem 7\n",
    "Break down this problems using print() statements to understand what's going on.  Then, add comments to the code to explain each step.  Make sure to look up the while() method to understand how it works. "
   ]
  },
  {
   "cell_type": "code",
   "execution_count": 104,
   "metadata": {},
   "outputs": [
    {
     "name": "stdout",
     "output_type": "stream",
     "text": [
      "5\n",
      "1234\n"
     ]
    },
    {
     "data": {
      "text/plain": [
       "54321"
      ]
     },
     "execution_count": 104,
     "metadata": {},
     "output_type": "execute_result"
    }
   ],
   "source": [
    "#This function takes a number as an input and returns its digits in reversed order.\n",
    "def reverse_number(num):\n",
    "    reversed=0\n",
    "#The function uses a while loop to execute statements as long as certain conditions are true,\n",
    "#in this case that the number be greater than zero. \n",
    "    while(num>0):\n",
    "        remainder=num%10\n",
    "#The function checks the remainder when the input is divided by 10. We see below that the remainder is 5.\n",
    "        reversed=reversed*10+remainder\n",
    "        num=num//10\n",
    "#The function uses the floor division operator to return the integer value of the quotient. We see below that this is 1234.\n",
    "#The function goes through an iterative loop with this process, updating the stored values of \"num\" and \"reversed\"\n",
    "#until the loop no longer runs. It is finished and returns the full reversed five-digit number 54321.\n",
    "    return reversed\n",
    "\n",
    "# test \n",
    "num=12345\n",
    "print(num%10)\n",
    "print(num//10)\n",
    "reverse_number(num)\n"
   ]
  },
  {
   "cell_type": "markdown",
   "metadata": {},
   "source": [
    "#### Problem 8  - *challenge*\n",
    "Write a function that accepts a positive number and formats it into a string in monetary format correctly representing the dollar and cent amounts.   For example:\n",
    "\n",
    "```\n",
    "money_format(3510000.159897)\n",
    "```\n",
    "should return\n",
    "```\n",
    "  '3,510,000.16'\n",
    "```"
   ]
  },
  {
   "cell_type": "code",
   "execution_count": 138,
   "metadata": {},
   "outputs": [
    {
     "data": {
      "text/plain": [
       "'$          351,000.16'"
      ]
     },
     "execution_count": 138,
     "metadata": {},
     "output_type": "execute_result"
    }
   ],
   "source": [
    "def money_format(num):\n",
    "    if (num>0):\n",
    "        return '${:20,.2f}'.format(num)\n",
    "    \n",
    "money_format(351000.159897)"
   ]
  },
  {
   "cell_type": "markdown",
   "metadata": {},
   "source": [
    "#### Problem 9\n",
    "This problem is designed to expand our understanding of lists.  Please take a little time to research list methods in python.  Look up and demonstrate the following list methods with simple examples.  \n",
    "\n",
    "a.  Create an empty list  \n",
    "\n",
    "b.  Add an item to a list  \n",
    "\n",
    "c.  Take off the last item in a list\n",
    "\n",
    "d.   Insert an item into a list at a specific index\n",
    "\n",
    "e.  Remove an item at a specific index  \n"
   ]
  },
  {
   "cell_type": "code",
   "execution_count": 144,
   "metadata": {},
   "outputs": [
    {
     "name": "stdout",
     "output_type": "stream",
     "text": [
      "[]\n",
      "['a']\n",
      "['x', 'y']\n",
      "['x', 'm', 'y']\n",
      "['x', 'y']\n"
     ]
    }
   ],
   "source": [
    "# a. \n",
    "empty_list = []\n",
    "print(empty_list)\n",
    "\n",
    "# b. \n",
    "empty_list.append('a')\n",
    "print(empty_list)\n",
    "\n",
    "# c. \n",
    "new_list = ['x','y','z']\n",
    "new_list.pop()\n",
    "print(new_list)\n",
    "\n",
    "# d. \n",
    "new_list.insert(1, 'm')\n",
    "print(new_list)\n",
    "\n",
    "# e. \n",
    "del new_list[1]\n",
    "print(new_list)"
   ]
  },
  {
   "cell_type": "markdown",
   "metadata": {},
   "source": [
    "#### Problem 10\n",
    "This problem is designed to expand our understanding of dictionaries (called, 'objects', in other programming languages).  Please take a little time to research dictionaries in python.  Look up and demonstrate the following properties of and methods for dictionaries.  \n",
    "\n",
    "a.  Show how to access the value for a specified key, use June for an example.  \n",
    "\n",
    "b.  Print all of the keys for the dictionary shown below\n",
    "\n",
    "c.  Print all of the values for the dictionary shown below.    \n",
    "\n",
    "d.  Demonstrate a method to find how many items are in the dictionary.  \n",
    "\n",
    "e.  Demonstrate a method to add a new key value pair to the dictionary. \n"
   ]
  },
  {
   "cell_type": "code",
   "execution_count": 156,
   "metadata": {},
   "outputs": [
    {
     "name": "stdout",
     "output_type": "stream",
     "text": [
      "Number of days in June: 30\n",
      "dict_keys(['January', 'February', 'March', 'April', 'May', 'June', 'July', 'August', 'September', 'October', 'November', 'December'])\n",
      "dict_values([31, 28, 31, 30, 31, 30, 31, 31, 30, 31, 30, 31])\n",
      "There are 12 items in this dictionary.\n",
      "Number of days in Year: 365\n"
     ]
    }
   ],
   "source": [
    "days = {\n",
    "    'January':31, \n",
    "    'February':28, \n",
    "    'March':31, \n",
    "    'April':30,\n",
    "    'May':31, \n",
    "    'June':30, \n",
    "    'July':31, \n",
    "    'August':31,\n",
    "    'September':30, \n",
    "    'October':31, \n",
    "    'November':30, \n",
    "    'December':31\n",
    "}\n",
    "\n",
    "# a. \n",
    "print(\"Number of days in June:\", days.get('June'))\n",
    "\n",
    "# b. \n",
    "print(days.keys())\n",
    "    \n",
    "# c. \n",
    "print(days.values())\n",
    "\n",
    "# d.  \n",
    "print(\"There are\", len(days.keys()), \"items in this dictionary.\")\n",
    "\n",
    "# e.\n",
    "days['Year']=365\n",
    "print(\"Number of days in Year:\", days.get('Year'))"
   ]
  }
 ],
 "metadata": {
  "kernelspec": {
   "display_name": "Python 3",
   "language": "python",
   "name": "python3"
  },
  "language_info": {
   "codemirror_mode": {
    "name": "ipython",
    "version": 3
   },
   "file_extension": ".py",
   "mimetype": "text/x-python",
   "name": "python",
   "nbconvert_exporter": "python",
   "pygments_lexer": "ipython3",
   "version": "3.7.1"
  }
 },
 "nbformat": 4,
 "nbformat_minor": 2
}
